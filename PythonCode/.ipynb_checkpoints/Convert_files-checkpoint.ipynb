{
 "cells": [
  {
   "cell_type": "markdown",
   "metadata": {},
   "source": [
    "# Converting csv's to better csv's\n",
    "This code's purpose it to take the CSV's generated in mathematica and just fix the format to be more python friendly so that it doesn't have to be ran in every code.  "
   ]
  },
  {
   "cell_type": "code",
   "execution_count": 1,
   "metadata": {},
   "outputs": [],
   "source": [
    "import numpy as np\n",
    "import pandas as pd\n",
    "import ast\n",
    "from itertools import groupby"
   ]
  },
  {
   "cell_type": "code",
   "execution_count": 2,
   "metadata": {},
   "outputs": [],
   "source": [
    "# we will sort the row of the dataframe by the length i.e. column 4\n",
    "def sortbysize(x):\n",
    "    return x[4]"
   ]
  },
  {
   "cell_type": "markdown",
   "metadata": {},
   "source": [
    "## This section will use the file info_on_all_traces.csv from Mathematica to make the conversions"
   ]
  },
  {
   "cell_type": "markdown",
   "metadata": {},
   "source": [
    "Cleans up the dataframe about all the traces making matrices as a list of lists and same for decomposition and replaces final_position with a boolean variable for if the element is a commutator or not, and sorts the reps by length"
   ]
  },
  {
   "cell_type": "code",
   "execution_count": 3,
   "metadata": {},
   "outputs": [],
   "source": [
    "#Choose between the same set of all traces in L or the second file which is\n",
    "#just commutator traces from 25000- 100000 or those from 100000-150000\n",
    "df=pd.read_csv(\"../CSV/info_on_traces.csv\")\n",
    "#df=pd.read_csv(\"../CSV/upto100000/allcommutatorsupto100000.csv\")\n",
    "df.columns=['trace','admissible','matrix','decomp','length','final_position']\n",
    "df['commutator']= pd.get_dummies(df['final_position'])['{0, 0}']\n",
    "\n",
    "#convert the form of the matrices and decompositions\n",
    "replacement_column=[0]*len(df.trace)\n",
    "matrix_replacement_column=[0]*len(df.trace)\n",
    "finalposition=[0]*len(df.trace)\n",
    "for i in range(0, len(df.trace)):\n",
    "    replacement_column[i]=ast.literal_eval(df.decomp.values[i].replace(\"{\", \"[\").replace(\"}\", \"]\"))\n",
    "    matrix_replacement_column[i]=ast.literal_eval(df.matrix.values[i].replace(\"{\", \"[\").replace(\"}\", \"]\")) \n",
    "    finalposition[i]=ast.literal_eval(df.final_position.values[i].replace(\"{\", \"[\").replace(\"}\", \"]\"))\n",
    "\n",
    "df['matrix']= matrix_replacement_column\n",
    "df['decomp']=replacement_column\n",
    "df[\"final_position\"]=finalposition\n",
    "\n",
    "#create a dataframe with of [trace, admissible, class number in L, class number in Gamma'(2)]\n",
    "df_traces=df.copy()\n",
    "df_traces.drop_duplicates(subset =\"trace\", keep = \"first\", inplace = True)\n",
    "df_traces=pd.DataFrame({\"trace\": df_traces.trace, \"admissible\": df_traces.admissible, 'L_class_number': df.groupby(df.trace).length.count().values, 'commutator_class_number':df.groupby(df.trace).commutator.sum().values, \"walks\":df.groupby(df.trace).length.mean().values })\n",
    "\n",
    "\n",
    "#sort the decompositions by narrow length and then length\n",
    "newRows=[]\n",
    "for t in df_traces.trace.values:\n",
    "    #grab all of the rows in the dataframe with the same trace\n",
    "    list_to_be_sorted=df.loc[df.trace==t].values.tolist()\n",
    "    #if the number of pairs of powers of a and powers of b are small enough, then clearly this is\n",
    "    # a 1-commutator and should be saved first\n",
    "    first_portion=[line for line in list_to_be_sorted if len(line[3][0])<=3]\n",
    "    second_portion=sorted([line for line in list_to_be_sorted if line not in first_portion], key=sortbysize)\n",
    "    newRows=newRows+first_portion+second_portion\n",
    "\n",
    "df=pd.DataFrame(newRows,columns=['trace','admissible','matrix','decomp','length','final_position','commutator'])    \n",
    "    "
   ]
  },
  {
   "cell_type": "markdown",
   "metadata": {},
   "source": [
    "Just a summary of what our new dataframes look like after all of that work"
   ]
  },
  {
   "cell_type": "code",
   "execution_count": 4,
   "metadata": {},
   "outputs": [
    {
     "data": {
      "text/html": [
       "<div>\n",
       "<style scoped>\n",
       "    .dataframe tbody tr th:only-of-type {\n",
       "        vertical-align: middle;\n",
       "    }\n",
       "\n",
       "    .dataframe tbody tr th {\n",
       "        vertical-align: top;\n",
       "    }\n",
       "\n",
       "    .dataframe thead th {\n",
       "        text-align: right;\n",
       "    }\n",
       "</style>\n",
       "<table border=\"1\" class=\"dataframe\">\n",
       "  <thead>\n",
       "    <tr style=\"text-align: right;\">\n",
       "      <th></th>\n",
       "      <th>trace</th>\n",
       "      <th>admissible</th>\n",
       "      <th>matrix</th>\n",
       "      <th>decomp</th>\n",
       "      <th>length</th>\n",
       "      <th>final_position</th>\n",
       "      <th>commutator</th>\n",
       "    </tr>\n",
       "  </thead>\n",
       "  <tbody>\n",
       "    <tr>\n",
       "      <th>0</th>\n",
       "      <td>100078</td>\n",
       "      <td>True</td>\n",
       "      <td>[[-98315, 63912], [2712, -1763]]</td>\n",
       "      <td>[[-18, 17, 1], [-2, 3, -1]]</td>\n",
       "      <td>42</td>\n",
       "      <td>[0, 0]</td>\n",
       "      <td>1</td>\n",
       "    </tr>\n",
       "    <tr>\n",
       "      <th>1</th>\n",
       "      <td>100078</td>\n",
       "      <td>True</td>\n",
       "      <td>[[-98315, 2712], [63912, -1763]]</td>\n",
       "      <td>[[-1, 3, -2], [1, 17, -18]]</td>\n",
       "      <td>42</td>\n",
       "      <td>[0, 0]</td>\n",
       "      <td>1</td>\n",
       "    </tr>\n",
       "    <tr>\n",
       "      <th>2</th>\n",
       "      <td>100078</td>\n",
       "      <td>True</td>\n",
       "      <td>[[-90155, 59832], [14952, -9923]]</td>\n",
       "      <td>[[-3, 2, 1], [-17, 18, -1]]</td>\n",
       "      <td>42</td>\n",
       "      <td>[0, 0]</td>\n",
       "      <td>1</td>\n",
       "    </tr>\n",
       "    <tr>\n",
       "      <th>3</th>\n",
       "      <td>100078</td>\n",
       "      <td>True</td>\n",
       "      <td>[[-90155, 14952], [59832, -9923]]</td>\n",
       "      <td>[[-1, 18, -17], [1, 2, -3]]</td>\n",
       "      <td>42</td>\n",
       "      <td>[0, 0]</td>\n",
       "      <td>1</td>\n",
       "    </tr>\n",
       "    <tr>\n",
       "      <th>4</th>\n",
       "      <td>100078</td>\n",
       "      <td>True</td>\n",
       "      <td>[[-93779, 53160], [11112, -6299]]</td>\n",
       "      <td>[[-4, -2, 1, 3, 2], [-1, 1, -1, 2, -1]]</td>\n",
       "      <td>18</td>\n",
       "      <td>[0, 0]</td>\n",
       "      <td>1</td>\n",
       "    </tr>\n",
       "  </tbody>\n",
       "</table>\n",
       "</div>"
      ],
      "text/plain": [
       "    trace  admissible                             matrix  \\\n",
       "0  100078        True   [[-98315, 63912], [2712, -1763]]   \n",
       "1  100078        True   [[-98315, 2712], [63912, -1763]]   \n",
       "2  100078        True  [[-90155, 59832], [14952, -9923]]   \n",
       "3  100078        True  [[-90155, 14952], [59832, -9923]]   \n",
       "4  100078        True  [[-93779, 53160], [11112, -6299]]   \n",
       "\n",
       "                                    decomp  length final_position  commutator  \n",
       "0              [[-18, 17, 1], [-2, 3, -1]]      42         [0, 0]           1  \n",
       "1              [[-1, 3, -2], [1, 17, -18]]      42         [0, 0]           1  \n",
       "2              [[-3, 2, 1], [-17, 18, -1]]      42         [0, 0]           1  \n",
       "3              [[-1, 18, -17], [1, 2, -3]]      42         [0, 0]           1  \n",
       "4  [[-4, -2, 1, 3, 2], [-1, 1, -1, 2, -1]]      18         [0, 0]           1  "
      ]
     },
     "execution_count": 4,
     "metadata": {},
     "output_type": "execute_result"
    }
   ],
   "source": [
    "df.head()"
   ]
  },
  {
   "cell_type": "code",
   "execution_count": 5,
   "metadata": {},
   "outputs": [
    {
     "data": {
      "text/html": [
       "<div>\n",
       "<style scoped>\n",
       "    .dataframe tbody tr th:only-of-type {\n",
       "        vertical-align: middle;\n",
       "    }\n",
       "\n",
       "    .dataframe tbody tr th {\n",
       "        vertical-align: top;\n",
       "    }\n",
       "\n",
       "    .dataframe thead th {\n",
       "        text-align: right;\n",
       "    }\n",
       "</style>\n",
       "<table border=\"1\" class=\"dataframe\">\n",
       "  <thead>\n",
       "    <tr style=\"text-align: right;\">\n",
       "      <th></th>\n",
       "      <th>trace</th>\n",
       "      <th>admissible</th>\n",
       "      <th>L_class_number</th>\n",
       "      <th>commutator_class_number</th>\n",
       "      <th>walks</th>\n",
       "    </tr>\n",
       "  </thead>\n",
       "  <tbody>\n",
       "    <tr>\n",
       "      <th>0</th>\n",
       "      <td>100078</td>\n",
       "      <td>True</td>\n",
       "      <td>96</td>\n",
       "      <td>96.0</td>\n",
       "      <td>23.041667</td>\n",
       "    </tr>\n",
       "    <tr>\n",
       "      <th>96</th>\n",
       "      <td>100098</td>\n",
       "      <td>True</td>\n",
       "      <td>134</td>\n",
       "      <td>134.0</td>\n",
       "      <td>22.149254</td>\n",
       "    </tr>\n",
       "    <tr>\n",
       "      <th>230</th>\n",
       "      <td>100114</td>\n",
       "      <td>True</td>\n",
       "      <td>60</td>\n",
       "      <td>60.0</td>\n",
       "      <td>22.400000</td>\n",
       "    </tr>\n",
       "    <tr>\n",
       "      <th>290</th>\n",
       "      <td>100206</td>\n",
       "      <td>True</td>\n",
       "      <td>124</td>\n",
       "      <td>124.0</td>\n",
       "      <td>20.322581</td>\n",
       "    </tr>\n",
       "    <tr>\n",
       "      <th>414</th>\n",
       "      <td>100242</td>\n",
       "      <td>True</td>\n",
       "      <td>122</td>\n",
       "      <td>122.0</td>\n",
       "      <td>22.360656</td>\n",
       "    </tr>\n",
       "  </tbody>\n",
       "</table>\n",
       "</div>"
      ],
      "text/plain": [
       "      trace  admissible  L_class_number  commutator_class_number      walks\n",
       "0    100078        True              96                     96.0  23.041667\n",
       "96   100098        True             134                    134.0  22.149254\n",
       "230  100114        True              60                     60.0  22.400000\n",
       "290  100206        True             124                    124.0  20.322581\n",
       "414  100242        True             122                    122.0  22.360656"
      ]
     },
     "execution_count": 5,
     "metadata": {},
     "output_type": "execute_result"
    }
   ],
   "source": [
    "df_traces.head()"
   ]
  },
  {
   "cell_type": "code",
   "execution_count": 6,
   "metadata": {
    "scrolled": true
   },
   "outputs": [
    {
     "data": {
      "text/html": [
       "<div>\n",
       "<style scoped>\n",
       "    .dataframe tbody tr th:only-of-type {\n",
       "        vertical-align: middle;\n",
       "    }\n",
       "\n",
       "    .dataframe tbody tr th {\n",
       "        vertical-align: top;\n",
       "    }\n",
       "\n",
       "    .dataframe thead th {\n",
       "        text-align: right;\n",
       "    }\n",
       "</style>\n",
       "<table border=\"1\" class=\"dataframe\">\n",
       "  <thead>\n",
       "    <tr style=\"text-align: right;\">\n",
       "      <th></th>\n",
       "      <th>trace</th>\n",
       "      <th>admissible</th>\n",
       "      <th>L_class_number</th>\n",
       "      <th>commutator_class_number</th>\n",
       "      <th>walks</th>\n",
       "    </tr>\n",
       "  </thead>\n",
       "  <tbody>\n",
       "    <tr>\n",
       "      <th>0</th>\n",
       "      <td>100078</td>\n",
       "      <td>True</td>\n",
       "      <td>96</td>\n",
       "      <td>96.0</td>\n",
       "      <td>23.041667</td>\n",
       "    </tr>\n",
       "    <tr>\n",
       "      <th>96</th>\n",
       "      <td>100098</td>\n",
       "      <td>True</td>\n",
       "      <td>134</td>\n",
       "      <td>134.0</td>\n",
       "      <td>22.149254</td>\n",
       "    </tr>\n",
       "    <tr>\n",
       "      <th>230</th>\n",
       "      <td>100114</td>\n",
       "      <td>True</td>\n",
       "      <td>60</td>\n",
       "      <td>60.0</td>\n",
       "      <td>22.400000</td>\n",
       "    </tr>\n",
       "    <tr>\n",
       "      <th>290</th>\n",
       "      <td>100206</td>\n",
       "      <td>True</td>\n",
       "      <td>124</td>\n",
       "      <td>124.0</td>\n",
       "      <td>20.322581</td>\n",
       "    </tr>\n",
       "    <tr>\n",
       "      <th>414</th>\n",
       "      <td>100242</td>\n",
       "      <td>True</td>\n",
       "      <td>122</td>\n",
       "      <td>122.0</td>\n",
       "      <td>22.360656</td>\n",
       "    </tr>\n",
       "  </tbody>\n",
       "</table>\n",
       "</div>"
      ],
      "text/plain": [
       "      trace  admissible  L_class_number  commutator_class_number      walks\n",
       "0    100078        True              96                     96.0  23.041667\n",
       "96   100098        True             134                    134.0  22.149254\n",
       "230  100114        True              60                     60.0  22.400000\n",
       "290  100206        True             124                    124.0  20.322581\n",
       "414  100242        True             122                    122.0  22.360656"
      ]
     },
     "execution_count": 6,
     "metadata": {},
     "output_type": "execute_result"
    }
   ],
   "source": [
    "df_traces.loc[df_traces.admissible==True].head()"
   ]
  },
  {
   "cell_type": "code",
   "execution_count": 7,
   "metadata": {},
   "outputs": [],
   "source": [
    "#save our new csv's to file depending on which file you imported in, \n",
    "#either leave these 4 lines or comment them out and uncomment the last two line\n",
    "df.to_csv(\"../CSV/all_traces_converted.csv\", index=False)\n",
    "df.loc[df.admissible==True].to_csv(\"../CSV/admissible_traces_converted.csv\", index=False)\n",
    "df_traces.to_csv(\"../CSV/trace_only_converted.csv\", index=False)\n",
    "df_traces.loc[df_traces.admissible==True].to_csv(\"../CSV/admissible_trace_only_converted.csv\", index=False)\n",
    "#df.loc[df.admissible==True].to_csv(\"../CSV/upto100000/admissible_traces_converted100000.csv\", index=False)\n",
    "#df_traces.loc[df_traces.admissible==True].to_csv(\"../CSV/upto100000/admissible_trace_only_converted100000.csv\", index=False)"
   ]
  },
  {
   "cell_type": "code",
   "execution_count": 8,
   "metadata": {},
   "outputs": [
    {
     "data": {
      "text/html": [
       "<div>\n",
       "<style scoped>\n",
       "    .dataframe tbody tr th:only-of-type {\n",
       "        vertical-align: middle;\n",
       "    }\n",
       "\n",
       "    .dataframe tbody tr th {\n",
       "        vertical-align: top;\n",
       "    }\n",
       "\n",
       "    .dataframe thead th {\n",
       "        text-align: right;\n",
       "    }\n",
       "</style>\n",
       "<table border=\"1\" class=\"dataframe\">\n",
       "  <thead>\n",
       "    <tr style=\"text-align: right;\">\n",
       "      <th></th>\n",
       "      <th>trace</th>\n",
       "      <th>admissible</th>\n",
       "      <th>matrix</th>\n",
       "      <th>decomp</th>\n",
       "      <th>length</th>\n",
       "      <th>final_position</th>\n",
       "      <th>commutator</th>\n",
       "    </tr>\n",
       "  </thead>\n",
       "  <tbody>\n",
       "  </tbody>\n",
       "</table>\n",
       "</div>"
      ],
      "text/plain": [
       "Empty DataFrame\n",
       "Columns: [trace, admissible, matrix, decomp, length, final_position, commutator]\n",
       "Index: []"
      ]
     },
     "execution_count": 8,
     "metadata": {},
     "output_type": "execute_result"
    }
   ],
   "source": [
    "df.loc[df.trace==110]"
   ]
  },
  {
   "cell_type": "code",
   "execution_count": null,
   "metadata": {},
   "outputs": [],
   "source": []
  },
  {
   "cell_type": "code",
   "execution_count": null,
   "metadata": {},
   "outputs": [],
   "source": []
  }
 ],
 "metadata": {
  "kernelspec": {
   "display_name": "Python 3",
   "language": "python",
   "name": "python3"
  },
  "language_info": {
   "codemirror_mode": {
    "name": "ipython",
    "version": 3
   },
   "file_extension": ".py",
   "mimetype": "text/x-python",
   "name": "python",
   "nbconvert_exporter": "python",
   "pygments_lexer": "ipython3",
   "version": "3.7.3"
  }
 },
 "nbformat": 4,
 "nbformat_minor": 4
}
