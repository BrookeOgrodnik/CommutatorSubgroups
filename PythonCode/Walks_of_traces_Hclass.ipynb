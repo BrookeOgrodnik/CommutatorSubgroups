{
 "cells": [
  {
   "cell_type": "markdown",
   "metadata": {},
   "source": [
    "# Walks of Traces"
   ]
  },
  {
   "cell_type": "code",
   "execution_count": 1,
   "metadata": {},
   "outputs": [],
   "source": [
    "import numpy as np\n",
    "import pandas as pd\n",
    "import ast\n",
    "import matplotlib.pyplot as plt"
   ]
  },
  {
   "cell_type": "code",
   "execution_count": 2,
   "metadata": {},
   "outputs": [],
   "source": [
    "df=pd.read_csv(\"../CSV/wordlenghtandhomology.csv\")\n",
    "\n",
    "admissibles=df.loc[df.Admissible==0]\n",
    "non_admis=df.loc[df.Admissible==1]"
   ]
  },
  {
   "cell_type": "markdown",
   "metadata": {},
   "source": [
    "Function to plot a given matrix via its decomposition"
   ]
  },
  {
   "cell_type": "markdown",
   "metadata": {},
   "source": [
    "## Plotting the Multiplicity of points in $\\mathbb{Z}^2$"
   ]
  },
  {
   "cell_type": "code",
   "execution_count": null,
   "metadata": {},
   "outputs": [],
   "source": [
    "finals=[[df.XVal.values[i],df.YVal.values[i]] for i in range(len(df))]\n",
    "\n",
    "#finding each final position that we get\n",
    "multiplicity=[]\n",
    "for x in finals:\n",
    "    if x not in multiplicity:\n",
    "        multiplicity.append(x)\n",
    "        \n",
    "#counting the multiplicity of each final position        \n",
    "counts=[finals.count(i) for i in multiplicity]\n",
    "xpositions=[a[0] for a in multiplicity]\n",
    "ypositions=[a[1] for a in multiplicity]"
   ]
  },
  {
   "cell_type": "markdown",
   "metadata": {},
   "source": [
    "We can look at the set of final posititions for all of the points in our dataframe"
   ]
  },
  {
   "cell_type": "code",
   "execution_count": null,
   "metadata": {
    "scrolled": false
   },
   "outputs": [],
   "source": [
    "dataframeCreate=pd.DataFrame({\"xval\":xpositions,\"yval\":ypositions,\"count\":counts})\n",
    "dataframeCreate.plot(kind=\"scatter\", x = \"xval\", y = \"yval\",\n",
    "             alpha = .9, figsize=(12,10), c=\"count\",cmap = plt.get_cmap(\"viridis\"), \n",
    "             colorbar=True)\n",
    "#plt.title(\"Heat map of the final positions of the conjugacy classes\", fontsize = 40)\n",
    "#plt.xlabel(\"x\", fontsize=16)\n",
    "plt.ylabel(\"\", fontsize=16)\n",
    "\n",
    "plt.show()"
   ]
  },
  {
   "cell_type": "markdown",
   "metadata": {},
   "source": [
    "We can zoom in to where the action is happening more"
   ]
  },
  {
   "cell_type": "code",
   "execution_count": null,
   "metadata": {},
   "outputs": [],
   "source": [
    "dataframeCreate.plot(kind=\"scatter\", x = \"xval\", y = \"yval\",\n",
    "             alpha = .9, figsize=(20,15), c=\"count\",cmap = plt.get_cmap(\"rainbow\"), \n",
    "             colorbar=True)\n",
    "#plt.title(\"Heat map of the final positions of the conjugacy classes Zoomed\", fontsize = 40)\n",
    "#plt.xlabel(\"x\", fontsize=16)\n",
    "plt.ylabel(\"\")\n",
    "plt.xlim(-100,100)\n",
    "plt.ylim(-100, 100)\n",
    "plt.show()"
   ]
  },
  {
   "cell_type": "markdown",
   "metadata": {},
   "source": [
    "### We can just look at what happens for admissible traces"
   ]
  },
  {
   "cell_type": "code",
   "execution_count": null,
   "metadata": {},
   "outputs": [],
   "source": [
    "finals_admis=[[admissibles.XVal.values[i],admissibles.YVal.values[i]] for i in range(len(admissibles))]\n",
    "\n",
    "#finding each final position that we get\n",
    "multiplicity_admis=[]\n",
    "for x in finals_admis:\n",
    "    if x not in multiplicity_admis:\n",
    "        multiplicity_admis.append(x)\n",
    "        \n",
    "#counting the multiplicity of each final position        \n",
    "counts_admis=[finals_admis.count(i) for i in multiplicity_admis]\n",
    "xpositions_admis=[a[0] for a in multiplicity_admis]\n",
    "ypositions_admis=[a[1] for a in multiplicity_admis]"
   ]
  },
  {
   "cell_type": "code",
   "execution_count": null,
   "metadata": {},
   "outputs": [],
   "source": [
    "dataframeCreate_admis=pd.DataFrame({\"xval\":xpositions_admis,\"yval\":ypositions_admis,\"count\":counts_admis})\n",
    "dataframeCreate_admis.plot(kind=\"scatter\", x = \"xval\", y = \"yval\",\n",
    "             alpha = .9, figsize=(20,15), c=\"count\",cmap = plt.get_cmap(\"viridis\"), \n",
    "             colorbar=True)\n",
    "#plt.title(\"Heat map of the final positions of the conjugacy classes for only admissible traces\", fontsize = 40)\n",
    "#plt.xlabel(\"x\", fontsize=16)\n",
    "plt.ylabel(\"\", fontsize=16)\n",
    "\n",
    "plt.show()"
   ]
  },
  {
   "cell_type": "markdown",
   "metadata": {},
   "source": [
    "Looking at the only zoomed in values"
   ]
  },
  {
   "cell_type": "code",
   "execution_count": null,
   "metadata": {},
   "outputs": [],
   "source": [
    "dataframeCreate_admis.plot(kind=\"scatter\", x = \"xval\", y = \"yval\",\n",
    "             alpha = .9, figsize=(20,15), c=\"count\",cmap = plt.get_cmap(\"rainbow\"), \n",
    "             colorbar=True)\n",
    "#plt.title(\"Heat map of the final positions of the conjugacy classes of admissibles Zoomed\", fontsize = 40)\n",
    "#plt.xlabel(\"x\", fontsize=16)\n",
    "plt.ylabel(\"\", fontsize=16)\n",
    "plt.xlim(-50,50)\n",
    "plt.ylim(-50, 50)\n",
    "plt.show()"
   ]
  },
  {
   "cell_type": "markdown",
   "metadata": {},
   "source": [
    "### We can just look at what happens for non-admissible traces"
   ]
  },
  {
   "cell_type": "code",
   "execution_count": null,
   "metadata": {},
   "outputs": [],
   "source": [
    "finals_non=[[non_admis.XVal.values[i],non_admis.YVal.values[i]] for i in range(len(non_admis))]\n",
    "\n",
    "#finding each final position that we get\n",
    "multiplicity_non=[]\n",
    "for x in finals_non:\n",
    "    if x not in multiplicity_non:\n",
    "        multiplicity_non.append(x)\n",
    "        \n",
    "#counting the multiplicity of each final position        \n",
    "counts_non=[finals_non.count(i) for i in multiplicity_non]+[max(counts)]\n",
    "#an extra point is added in off the mapping to emphasise the scale between all of the pictures\n",
    "xpositions_non=[a[0] for a in multiplicity_non]+[max(xpositions)+5]\n",
    "ypositions_non=[a[1] for a in multiplicity_non]+[max(ypositions)+5]"
   ]
  },
  {
   "cell_type": "code",
   "execution_count": null,
   "metadata": {},
   "outputs": [],
   "source": [
    "dataframeCreate_non=pd.DataFrame({\"xval\":xpositions_non,\"yval\":ypositions_non,\"count\":counts_non})\n",
    "dataframeCreate_non.plot(kind=\"scatter\", x = \"xval\", y = \"yval\",\n",
    "             alpha = .9, figsize=(20,15), c=\"count\",cmap = plt.get_cmap(\"viridis\"), \n",
    "             colorbar=True)\n",
    "\n",
    "#plt.title(\"Heat map of the final positions of the conjugacy classes for only non-admissible traces\", fontsize = 40)\n",
    "#plt.xlabel(\"x\", fontsize=16)\n",
    "plt.ylabel(\"\", fontsize=16)\n",
    "\n",
    "plt.show()"
   ]
  },
  {
   "cell_type": "code",
   "execution_count": null,
   "metadata": {},
   "outputs": [],
   "source": [
    "plt.figure(figsize=(20,10))\n",
    "dataframeCreate_non.plot(kind=\"scatter\", x = \"xval\", y = \"yval\",\n",
    "             alpha = .9, figsize=(20,15), c=\"count\",cmap = plt.get_cmap(\"rainbow\"), \n",
    "             colorbar=True)\n",
    "#plt.title(\"Heat map of the final positions of the conjugacy classes of non-admissibles Zoomed\", fontsize = 40)\n",
    "#plt.xlabel(\"x\", fontsize=16)\n",
    "plt.ylabel(\"\", fontsize=16)\n",
    "plt.xlim(-50,50)\n",
    "plt.ylim(-50, 50)\n",
    "plt.show()"
   ]
  },
  {
   "cell_type": "markdown",
   "metadata": {},
   "source": [
    "## Here we are looking at the average length of a walk in the H conjugacy class case"
   ]
  },
  {
   "cell_type": "code",
   "execution_count": null,
   "metadata": {},
   "outputs": [],
   "source": [
    "df_traces=df.copy()\n",
    "df_traces.drop_duplicates(subset =\"Trace\", keep = \"first\", inplace = True)\n",
    "df_traces=pd.DataFrame({\"Trace\": df_traces.Trace, \"Admissible\": df_traces.Admissible, 'Word Length': df.groupby(df.Trace)[\"Word Length\"].mean().values })\n",
    "\n",
    "\n",
    "plt.figure(figsize=(15,15))\n",
    "plt.scatter(df_traces.loc[(df_traces.Admissible==0)].Trace.values, df_traces.loc[(df_traces.Admissible==0)][\"Word Length\"].values,label='Admissible Trace')\n",
    "plt.scatter(df_traces.loc[(df_traces.Admissible==1)].Trace.values, df_traces.loc[(df_traces.Admissible==1)][\"Word Length\"].values,label='Other Trace')\n",
    "\n",
    "\n",
    "plt.ylim(0,90)\n",
    "plt.xlabel(\"abs(Trace)\", fontsize = 25)\n",
    "plt.ylabel(\"Average Length of the Walk\", fontsize = 25)\n",
    "\n",
    "# Also a title\n",
    "#plt.title(\"A plot of the trace's average word length of the conjugacy classes\", fontsize = 35)\n",
    "\n",
    "# plt.legend() adds the legend to the plot\n",
    "plt.legend(fontsize=20)\n",
    "plt.show()"
   ]
  },
  {
   "cell_type": "code",
   "execution_count": null,
   "metadata": {},
   "outputs": [],
   "source": []
  }
 ],
 "metadata": {
  "kernelspec": {
   "display_name": "Python 3",
   "language": "python",
   "name": "python3"
  },
  "language_info": {
   "codemirror_mode": {
    "name": "ipython",
    "version": 3
   },
   "file_extension": ".py",
   "mimetype": "text/x-python",
   "name": "python",
   "nbconvert_exporter": "python",
   "pygments_lexer": "ipython3",
   "version": "3.7.3"
  }
 },
 "nbformat": 4,
 "nbformat_minor": 4
}
